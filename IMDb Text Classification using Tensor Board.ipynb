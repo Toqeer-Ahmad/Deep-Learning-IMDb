{
 "cells": [
  {
   "cell_type": "markdown",
   "id": "3b2bfd1b",
   "metadata": {},
   "source": [
    "# Introduction to Tensor Board"
   ]
  },
  {
   "cell_type": "markdown",
   "id": "d22bcf08",
   "metadata": {},
   "source": [
    "The key purpose of TensorBoard is to help you visually monitor everything that\n",
    "goes on inside your model during training. If you’re monitoring more information\n",
    "than just the model’s final loss, you can develop a clearer vision of what the model\n",
    "does and doesn’t do, and you can make progress more quickly"
   ]
  },
  {
   "cell_type": "markdown",
   "id": "39e09adc",
   "metadata": {},
   "source": [
    "### Text-classification model to use with TensorBoard"
   ]
  },
  {
   "cell_type": "code",
   "execution_count": 4,
   "id": "322f5f6c",
   "metadata": {},
   "outputs": [],
   "source": [
    "import keras\n",
    "from keras import layers\n",
    "from keras.datasets import imdb\n",
    "from keras_preprocessing.sequence import pad_sequences"
   ]
  },
  {
   "cell_type": "code",
   "execution_count": 5,
   "id": "d32f6eca",
   "metadata": {},
   "outputs": [
    {
     "name": "stdout",
     "output_type": "stream",
     "text": [
      "Model: \"sequential\"\n",
      "_________________________________________________________________\n",
      " Layer (type)                Output Shape              Param #   \n",
      "=================================================================\n",
      " embed (Embedding)           (None, 500, 128)          256000    \n",
      "                                                                 \n",
      " conv1d (Conv1D)             (None, 494, 32)           28704     \n",
      "                                                                 \n",
      " max_pooling1d (MaxPooling1D  (None, 98, 32)           0         \n",
      " )                                                               \n",
      "                                                                 \n",
      " conv1d_1 (Conv1D)           (None, 92, 32)            7200      \n",
      "                                                                 \n",
      " global_max_pooling1d (Globa  (None, 32)               0         \n",
      " lMaxPooling1D)                                                  \n",
      "                                                                 \n",
      " dense (Dense)               (None, 1)                 33        \n",
      "                                                                 \n",
      "=================================================================\n",
      "Total params: 291,937\n",
      "Trainable params: 291,937\n",
      "Non-trainable params: 0\n",
      "_________________________________________________________________\n"
     ]
    }
   ],
   "source": [
    "max_features = 2000\n",
    "max_len = 500\n",
    "(x_train, y_train), (x_test, y_test) = imdb.load_data(num_words=max_features)\n",
    "x_train = pad_sequences(x_train, maxlen=max_len)\n",
    "x_test = pad_sequences(x_test, maxlen=max_len)\n",
    "model = keras.models.Sequential()\n",
    "model.add(layers.Embedding(max_features, 128,\n",
    "                            input_length=max_len,\n",
    "                            name='embed'))\n",
    "model.add(layers.Conv1D(32, 7, activation='relu'))\n",
    "model.add(layers.MaxPooling1D(5))\n",
    "model.add(layers.Conv1D(32, 7, activation='relu'))\n",
    "model.add(layers.GlobalMaxPooling1D())\n",
    "model.add(layers.Dense(1))\n",
    "model.summary()\n",
    "model.compile(optimizer='rmsprop',\n",
    "                loss='binary_crossentropy',\n",
    "                metrics=['acc'])"
   ]
  },
  {
   "cell_type": "markdown",
   "id": "0818460e",
   "metadata": {},
   "source": [
    "### Creating a directory for TensorBoard log files\n",
    "$ mkdir my_log_dir\n"
   ]
  },
  {
   "cell_type": "markdown",
   "id": "74dc08f0",
   "metadata": {},
   "source": [
    "### Training the model with a TensorBoard callback"
   ]
  },
  {
   "cell_type": "code",
   "execution_count": 7,
   "id": "833f6ca1",
   "metadata": {},
   "outputs": [
    {
     "name": "stdout",
     "output_type": "stream",
     "text": [
      "Epoch 1/20\n",
      "157/157 [==============================] - 48s 302ms/step - loss: 0.3634 - acc: 0.8858 - val_loss: 0.4640 - val_acc: 0.8690\n",
      "Epoch 2/20\n",
      "157/157 [==============================] - 46s 295ms/step - loss: 0.3338 - acc: 0.9056 - val_loss: 0.4640 - val_acc: 0.8700\n",
      "Epoch 3/20\n",
      "157/157 [==============================] - 45s 285ms/step - loss: 0.2738 - acc: 0.9250 - val_loss: 0.7128 - val_acc: 0.8486\n",
      "Epoch 4/20\n",
      "157/157 [==============================] - 44s 278ms/step - loss: 0.2507 - acc: 0.9356 - val_loss: 0.6102 - val_acc: 0.8708\n",
      "Epoch 5/20\n",
      "157/157 [==============================] - 43s 275ms/step - loss: 0.2019 - acc: 0.9531 - val_loss: 0.6678 - val_acc: 0.8736\n",
      "Epoch 6/20\n",
      "157/157 [==============================] - 49s 312ms/step - loss: 0.1614 - acc: 0.9704 - val_loss: 1.1049 - val_acc: 0.8372\n",
      "Epoch 7/20\n",
      "157/157 [==============================] - 48s 307ms/step - loss: 0.1401 - acc: 0.9789 - val_loss: 0.8398 - val_acc: 0.8698\n",
      "Epoch 8/20\n",
      "157/157 [==============================] - 48s 306ms/step - loss: 0.1235 - acc: 0.9847 - val_loss: 0.8955 - val_acc: 0.8714\n",
      "Epoch 9/20\n",
      "157/157 [==============================] - 45s 289ms/step - loss: 0.1047 - acc: 0.9905 - val_loss: 1.9512 - val_acc: 0.7806\n",
      "Epoch 10/20\n",
      "157/157 [==============================] - 43s 272ms/step - loss: 0.1024 - acc: 0.9905 - val_loss: 1.0010 - val_acc: 0.8710\n",
      "Epoch 11/20\n",
      "157/157 [==============================] - 42s 265ms/step - loss: 0.0978 - acc: 0.9910 - val_loss: 1.0343 - val_acc: 0.8736\n",
      "Epoch 12/20\n",
      "157/157 [==============================] - 43s 272ms/step - loss: 0.0982 - acc: 0.9894 - val_loss: 1.0560 - val_acc: 0.8706\n",
      "Epoch 13/20\n",
      "157/157 [==============================] - 44s 282ms/step - loss: 0.0969 - acc: 0.9912 - val_loss: 1.1445 - val_acc: 0.8712\n",
      "Epoch 14/20\n",
      "157/157 [==============================] - 51s 326ms/step - loss: 0.0948 - acc: 0.9918 - val_loss: 1.0990 - val_acc: 0.8746\n",
      "Epoch 15/20\n",
      "157/157 [==============================] - 53s 335ms/step - loss: 0.0947 - acc: 0.9916 - val_loss: 1.1757 - val_acc: 0.8690\n",
      "Epoch 16/20\n",
      "157/157 [==============================] - 44s 278ms/step - loss: 0.0906 - acc: 0.9931 - val_loss: 1.1606 - val_acc: 0.8708\n",
      "Epoch 17/20\n",
      "157/157 [==============================] - 47s 301ms/step - loss: 0.0908 - acc: 0.9927 - val_loss: 1.2821 - val_acc: 0.8616\n",
      "Epoch 18/20\n",
      "157/157 [==============================] - 45s 288ms/step - loss: 0.0918 - acc: 0.9923 - val_loss: 2.1618 - val_acc: 0.8000\n",
      "Epoch 19/20\n",
      "157/157 [==============================] - 43s 272ms/step - loss: 0.0933 - acc: 0.9923 - val_loss: 1.2276 - val_acc: 0.8682\n",
      "Epoch 20/20\n",
      "157/157 [==============================] - 42s 268ms/step - loss: 0.0901 - acc: 0.9928 - val_loss: 1.2576 - val_acc: 0.8682\n"
     ]
    }
   ],
   "source": [
    "callbacks = [\n",
    "keras.callbacks.TensorBoard(\n",
    "log_dir='my_log_dir',\n",
    "histogram_freq=1,\n",
    "embeddings_freq=1,\n",
    ")\n",
    "]\n",
    "history = model.fit(x_train, y_train,\n",
    "                    epochs=20,\n",
    "                    batch_size=128,\n",
    "                    validation_split=0.2,\n",
    "                    callbacks=callbacks)"
   ]
  },
  {
   "cell_type": "markdown",
   "id": "adf3be07",
   "metadata": {},
   "source": [
    "### Install TensorBoard"
   ]
  },
  {
   "cell_type": "code",
   "execution_count": null,
   "id": "a16b8d40",
   "metadata": {},
   "outputs": [],
   "source": [
    "pip install jupyter-tensorboard"
   ]
  },
  {
   "cell_type": "markdown",
   "id": "32fa8bf1",
   "metadata": {},
   "source": [
    "### Launch the TensorBoard\n",
    "01. Launch Anaconda prompt\n",
    "02. $ tensorboard --logdir=my_log_dir"
   ]
  },
  {
   "cell_type": "markdown",
   "id": "de31d9ec",
   "metadata": {},
   "source": [
    "### Visualizing the Results"
   ]
  },
  {
   "cell_type": "markdown",
   "id": "d22e37df",
   "metadata": {},
   "source": [
    "#### 01. Scalars"
   ]
  },
  {
   "cell_type": "markdown",
   "id": "c4f83ddd",
   "metadata": {},
   "source": [
    "![title](img/01.png)"
   ]
  },
  {
   "cell_type": "markdown",
   "id": "7f88820c",
   "metadata": {},
   "source": [
    "#### 02. Graphs"
   ]
  },
  {
   "cell_type": "markdown",
   "id": "0178f254",
   "metadata": {},
   "source": [
    "![title](img/02.png)"
   ]
  },
  {
   "cell_type": "markdown",
   "id": "d81b26b8",
   "metadata": {},
   "source": [
    "#### 03. Distributions"
   ]
  },
  {
   "cell_type": "markdown",
   "id": "1e10a898",
   "metadata": {},
   "source": [
    "![title](img/03.png)"
   ]
  },
  {
   "cell_type": "markdown",
   "id": "02545026",
   "metadata": {},
   "source": [
    "#### 04. Histograms"
   ]
  },
  {
   "cell_type": "markdown",
   "id": "15297c32",
   "metadata": {},
   "source": [
    "![title](img/04.png)"
   ]
  },
  {
   "cell_type": "markdown",
   "id": "938d52a0",
   "metadata": {},
   "source": [
    "#### 05. Time Series"
   ]
  },
  {
   "cell_type": "markdown",
   "id": "4f24a019",
   "metadata": {},
   "source": [
    "![title](img/05.png)"
   ]
  },
  {
   "cell_type": "markdown",
   "id": "9e120965",
   "metadata": {},
   "source": [
    "#### 06. Projector"
   ]
  },
  {
   "cell_type": "markdown",
   "id": "88792014",
   "metadata": {},
   "source": [
    "![title](img/06.png)"
   ]
  },
  {
   "cell_type": "markdown",
   "id": "600efb8a",
   "metadata": {},
   "source": [
    "### Conclusion\n",
    "- Keras callbacks provide a simple way to monitor models during training and\n",
    "automatically take action based on the state of the model.\n",
    "- When you’re using TensorFlow, TensorBoard is a great way to visualize model\n",
    "activity in your browser. You can use it in Keras models via the TensorBoard callback."
   ]
  }
 ],
 "metadata": {
  "kernelspec": {
   "display_name": "Python 3 (ipykernel)",
   "language": "python",
   "name": "python3"
  },
  "language_info": {
   "codemirror_mode": {
    "name": "ipython",
    "version": 3
   },
   "file_extension": ".py",
   "mimetype": "text/x-python",
   "name": "python",
   "nbconvert_exporter": "python",
   "pygments_lexer": "ipython3",
   "version": "3.9.12"
  }
 },
 "nbformat": 4,
 "nbformat_minor": 5
}
